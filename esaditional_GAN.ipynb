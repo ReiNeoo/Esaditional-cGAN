{
 "cells": [
  {
   "cell_type": "code",
   "execution_count": 37,
   "metadata": {},
   "outputs": [],
   "source": [
    "import os\n",
    "import torch\n",
    "import torch.nn as nn\n",
    "import pandas as pd\n",
    "import numpy as np\n",
    "from torchvision import transforms\n",
    "from torch.utils.data import Dataset, DataLoader\n",
    "from PIL import Image\n",
    "from torch import autograd\n",
    "from torch.autograd import Variable\n",
    "from torchvision.utils import make_grid\n",
    "import matplotlib.pyplot as plt"
   ]
  },
  {
   "cell_type": "code",
   "execution_count": 38,
   "metadata": {},
   "outputs": [
    {
     "name": "stdout",
     "output_type": "stream",
     "text": [
      "torch version:  2.2.2+cpu\n",
      "device:  cpu\n"
     ]
    }
   ],
   "source": [
    "device = \"cuda\" if torch.cuda.is_available() else \"cpu\"\n",
    "\n",
    "print(\"torch version: \", torch.__version__)\n",
    "print(\"device: \", device)"
   ]
  },
  {
   "cell_type": "code",
   "execution_count": 39,
   "metadata": {},
   "outputs": [],
   "source": [
    "def data_read(path):\n",
    "    readed_data = []\n",
    "    for image_name in os.listdir(path):\n",
    "        image_path = os.path.join(path, image_name)\n",
    "        image = Image.open(image_path)\n",
    "        image = image.convert(\"RGB\")\n",
    "        readed_data.append(image)\n",
    "    return readed_data\n",
    "\n",
    "class Apple_Dataset(Dataset):\n",
    "    def __init__(self, path, transform= None) -> None:\n",
    "        super().__init__()\n",
    "        self.transform = transform\n",
    "        self.images = data_read(path)\n",
    "        print(\"sizes: \", len(self.images))\n",
    "    \n",
    "    def __len__(self):\n",
    "        return len(self.images)\n",
    "\n",
    "    def __getitem__(self, index):\n",
    "        image = self.images[index]\n",
    "        if self.transform:\n",
    "            image = self.transform(image)\n",
    "        return image\n",
    "    \n",
    "\n",
    "transform = transforms.Compose([\n",
    "    transforms.Resize((256, 256)),\n",
    "    transforms.ToTensor()\n",
    "])"
   ]
  },
  {
   "cell_type": "code",
   "execution_count": 40,
   "metadata": {},
   "outputs": [],
   "source": [
    "red_apples_path = r\"C:\\Python_Projects\\esaditional_GAN\\conditional-GAN\\datasett\\red_apples\"\n",
    "green_apples_path = r\"C:\\Python_Projects\\esaditional_GAN\\conditional-GAN\\datasett\\green_apples\"\n",
    "\n",
    "batch_size = 8\n",
    "epochs = 5\n",
    "learning_rate = 1e-4\n",
    "\n",
    "g_input_size = 4\n",
    "g_encode_channel_sizes = [16, 32, 64, 128]\n",
    "g_encode_kernel_sizes = [3, 3, 3, 3]\n",
    "\n",
    "dropout = 0.1\n",
    "\n",
    "g_decode_channel_sizes = [64, 32, 16, 3]\n",
    "g_decode_kernel_sizes = [3, 3, 3, 3]\n",
    "g_upconv_pad_s = [1, 1, 1, 1]\n",
    "\n",
    "d_input_size = 6\n",
    "d_channel_sizes = [16, 32, 64, 128]\n",
    "d_kernel_sizes = [3, 3, 3, 3]\n",
    "d_ann_sizes = [256, 16, 8, 4]"
   ]
  },
  {
   "cell_type": "code",
   "execution_count": 41,
   "metadata": {},
   "outputs": [
    {
     "name": "stdout",
     "output_type": "stream",
     "text": [
      "sizes:  67\n"
     ]
    }
   ],
   "source": [
    "red_dataset = Apple_Dataset(red_apples_path, transform=transform)\n",
    "red_data_loader = torch.utils.data.DataLoader(red_dataset, batch_size, shuffle= True)"
   ]
  },
  {
   "cell_type": "code",
   "execution_count": 42,
   "metadata": {},
   "outputs": [
    {
     "name": "stdout",
     "output_type": "stream",
     "text": [
      "sizes:  67\n"
     ]
    }
   ],
   "source": [
    "green_dataset = Apple_Dataset(green_apples_path, transform = transform)\n",
    "green_data_loader = torch.utils.data.DataLoader(green_dataset, batch_size, shuffle= True)"
   ]
  },
  {
   "cell_type": "code",
   "execution_count": 43,
   "metadata": {},
   "outputs": [
    {
     "data": {
      "text/plain": [
       "torch.Size([3, 256, 256])"
      ]
     },
     "execution_count": 43,
     "metadata": {},
     "output_type": "execute_result"
    }
   ],
   "source": [
    "red_dataset[0].size()"
   ]
  },
  {
   "cell_type": "markdown",
   "metadata": {},
   "source": [
    "### Generator and Discriminator blocks"
   ]
  },
  {
   "cell_type": "code",
   "execution_count": 44,
   "metadata": {},
   "outputs": [],
   "source": [
    "class Generator(nn.Module):\n",
    "    def __init__(self, \n",
    "                input_channels: int,\n",
    "                encode_channel_sizes: list,\n",
    "                encode_kernel_sizes: list,\n",
    "\n",
    "                decode_channel_sizes: list, \n",
    "                decode_kernel_sizes: list,\n",
    "                d_upconv_pad_s: list,\n",
    "                 \n",
    "                dropout: float, \n",
    "                ) -> None:\n",
    "        \n",
    "        self.input_channels: int = input_channels\n",
    "        self.encode_channel_sizes: list = encode_channel_sizes\n",
    "        self.encode_kernel_sizes: list = encode_kernel_sizes\n",
    "\n",
    "        self.decode_channel_sizes: list = decode_channel_sizes\n",
    "        self.decode_kernel_sizes: list = decode_kernel_sizes\n",
    "        self.decode_upconv_padding_sizes: list = d_upconv_pad_s\n",
    "\n",
    "        self.dropout: float = dropout\n",
    "\n",
    "        super().__init__()\n",
    "        \n",
    "        self.model = nn.Sequential(\n",
    "            nn.Conv2d(self.input_channels, self.encode_channel_sizes[0], self.encode_kernel_sizes[0], padding= \"same\"), # 4-256-256 -> 16-256-256\n",
    "            #nn.Conv2d(self.encode_channel_sizes[0], self.encode_channel_sizes[0], self.encode_channel_sizes[0], padding= \"same\"), # 16-256-256 -> 16-256-256\n",
    "            nn.ReLU(),\n",
    "            nn.MaxPool2d(kernel_size= 2, stride= 2), # 16-256-256 -> 16-128-128\n",
    "            nn.Dropout(self.dropout),\n",
    "\n",
    "            nn.Conv2d(self.encode_channel_sizes[0], self.encode_channel_sizes[1], self.encode_kernel_sizes[1], padding= \"same\"), #16-128-128 -> 32-128-128\n",
    "            #nn.Conv2d(self.encode_channel_sizes[1], self.encode_channel_sizes[1], self.encode_kernel_sizes[1], padding= \"same\"), #32-128-128 -> 32-128-128\n",
    "            nn.ReLU(),\n",
    "            nn.MaxPool2d(kernel_size= 2, stride= 2), #32-128-128 -> 32-64-64\n",
    "            nn.Dropout(self.dropout),    \n",
    "\n",
    "            nn.Conv2d(self.encode_channel_sizes[1], self.encode_channel_sizes[2], self.encode_kernel_sizes[2], padding= \"same\"), # 32-64-64 -> 64-64-64\n",
    "            #nn.Conv2d(self.encode_channel_sizes[2], self.encode_channel_sizes[2], self.encode_kernel_sizes[2], padding= \"same\"), # 64-64-64 -> 64-64-64\n",
    "            nn.ReLU(),\n",
    "            nn.MaxPool2d(kernel_size= 2, stride= 2), # 64-64-64 -> 64-32-32\n",
    "            nn.Dropout(self.dropout),\n",
    "\n",
    "            nn.Conv2d(self.encode_channel_sizes[2], self.encode_channel_sizes[3], self.encode_kernel_sizes[3], padding= \"same\"), # 64-32-32 -> 128-32-32\n",
    "            #nn.Conv2d(self.encode_channel_sizes[2], self.encode_channel_sizes[2], self.encode_kernel_sizes[2], padding= \"same\"), # 64-64-64 -> 64-64-64\n",
    "            nn.ReLU(),\n",
    "            nn.MaxPool2d(kernel_size= 2, stride= 2), # 128-32-32 -> 128-16-16\n",
    "            nn.Dropout(self.dropout),\n",
    "\n",
    "            #here may come some ANN layers \n",
    "            #idk why :D\n",
    "\n",
    "            nn.ConvTranspose2d(self.encode_channel_sizes[3], self.decode_channel_sizes[0], self.decode_kernel_sizes[0], stride= 2, padding= d_upconv_pad_s[0]), # 128-16-16 -> 64-32-32\n",
    "            nn.Conv2d(self.decode_channel_sizes[0], self.decode_channel_sizes[0], self.decode_kernel_sizes[0], padding= \"same\"), # 64-32-32 -> 64-32-32\n",
    "            #nn.Conv2d(self.decode_channel_sizes[0], self.decode_channel_sizes[0], self.decode_kernel_sizes[0], padding= \"same\"), # 64-32-32 -> 64-32-32\n",
    "            nn.ReLU(),\n",
    "            nn.Dropout(self.dropout),\n",
    "            \n",
    "            nn.ConvTranspose2d(self.encode_channel_sizes[0], self.decode_channel_sizes[1], self.decode_kernel_sizes[1], stride= 2, padding= d_upconv_pad_s[1]), # 64-32-32 -> 32-64-64\n",
    "            nn.Conv2d(self.decode_channel_sizes[1], self.decode_channel_sizes[1], self.decode_kernel_sizes[1], padding= \"same\"), # 32-64-64 -> 32-64-64\n",
    "            #nn.Conv2d(self.decode_channel_sizes[1], self.decode_channel_sizes[1], self.decode_kernel_sizes[1], padding= \"same\"), # 32-64-64 -> 32-64-64\n",
    "            nn.ReLU(),\n",
    "            nn.Dropout(self.dropout),\n",
    "\n",
    "            nn.ConvTranspose2d(self.decode_channel_sizes[1], self.decode_channel_sizes[2], self.decode_kernel_sizes[2], stride= 2, padding= d_upconv_pad_s[2]), # 32-64-64 -> 16-128-128 \n",
    "            nn.Conv2d(self.decode_channel_sizes[2], self.decode_channel_sizes[2], self.decode_kernel_sizes[2], padding= \"same\"), # 16-128-128 -> 16-128-128\n",
    "            #nn.Conv2d(self.decode_channel_sizes[2], self.decode_channel_sizes[2], self.decode_kernel_sizes[2], padding= \"same\"), # 16-128-128 -> 16-128-128\n",
    "            nn.ReLU(),\n",
    "            nn.Dropout(self.dropout),\n",
    "\n",
    "            nn.ConvTranspose2d(self.decode_channel_sizes[2], self.decode_channel_sizes[3], self.decode_kernel_sizes[3], padding= d_upconv_pad_s[3]), # 16-128-128 -> 3-256-256\n",
    "            nn.Sigmoid(),\n",
    "            )\n",
    "        \n",
    "    def forward(self, noise: torch.Tensor, lable_image: torch.Tensor):\n",
    "        \n",
    "        x = torch.cat([noise, lable_image], 2)\n",
    "\n",
    "        out = self.model(x)\n",
    "\n",
    "        return out"
   ]
  },
  {
   "cell_type": "code",
   "execution_count": 45,
   "metadata": {},
   "outputs": [],
   "source": [
    "class Discriminator(nn.Module):\n",
    "    def __init__(self,\n",
    "                 input_chanel: list,\n",
    "                 channel_sizes: list,\n",
    "                 kernel_sizes: list,\n",
    "                 \n",
    "                 ann_layer_sizes: list,\n",
    "                 dropout: float\n",
    "                 ) -> None:\n",
    "        \n",
    "        self.input_channel: int = input_chanel\n",
    "        self.channel_sizes: list = channel_sizes\n",
    "        self.kernel_sizes: list  = kernel_sizes\n",
    "\n",
    "        self.ann_layer_sizes: list = ann_layer_sizes\n",
    "        self.dropout: float = dropout \n",
    "\n",
    "        super().__init__()\n",
    "        \n",
    "        self.model = nn.Sequential(\n",
    "            nn.Conv2d(self.input_channel, self.channel_sizes[0], self.kernel_sizes[0], padding= \"same\"), # 6-256-256 -> 16-256-256\n",
    "            #nn.Conv2d(self.channel_sizes[0], self.channel_sizes[0], self.kernel_sizes[0], padding= \"same\"), # 16-256-256 -> 16-256-256\n",
    "            nn.ReLU(),\n",
    "            nn.Dropout(self.dropout),\n",
    "            nn.MaxPool2d(kernel_size= 2, stride= 2), # 16-256-256 -> 16-128-128\n",
    "\n",
    "            nn.Conv2d(self.channel_sizes[0], self.channel_sizes[1], self.kernel_sizes[1], padding= \"same\"), # 16-128-128 -> 32-128-128\n",
    "            #nn.Conv2d(self.channel_sizes[1], self.channel_sizes[1], self.kernel_sizes[1], padding= \"same\"), # 32-128-128 -> 32-128-128\n",
    "            nn.ReLU(),\n",
    "            nn.Dropout(self.dropout),\n",
    "            nn.MaxPool2d(kernel_size= 2, stride= 2), # 32-128-128 - 32-64-64\n",
    "\n",
    "            nn.Conv2d(self.channel_sizes[1], self.channel_sizes[2], self.kernel_sizes[2], padding= \"same\"), # 32-64-64 -> 64-64-64\n",
    "            #nn.Conv2d(self.channel_sizes[2], self.channel_sizes[2], self.kernel_sizes[2], padding= \"same\"), # 64-64-64 -> 64-64-64\n",
    "            nn.ReLU(),\n",
    "            nn.Dropout(self.dropout),\n",
    "            nn.MaxPool2d(kernel_size= 2, stride= 2), # 64-64-64 -> 64-32-32\n",
    "            \n",
    "            nn.Conv2d(self.channel_sizes[2], self.channel_sizes[3], self.kernel_sizes[3], padding= \"same\"), # 64-32-32 -> 128-32-32\n",
    "            #nn.Conv2d(self.channel_sizes[3], self.channel_sizes[3], self.kernel_sizes[3], padding= \"same\"), # 128-32-32 -> 128-32-32\n",
    "            nn.ReLU(),\n",
    "            nn.Dropout(self.dropout),\n",
    "            nn.MaxPool2d(kernel_size= 2, stride= 2), # 128-32-32 -> 128-16-16\n",
    "\n",
    "            nn.Flatten(),\n",
    "\n",
    "            nn.Linear(self.ann_layer_sizes[0], self.ann_layer_sizes[1]),\n",
    "            nn.ReLU(),\n",
    "            nn.Dropout(self.dropout),\n",
    "            nn.Linear(self.ann_layer_sizes[1], self.ann_layer_sizes[2]),    \n",
    "            nn.ReLU(),\n",
    "            nn.Dropout(self.dropout),\n",
    "            nn.Linear(self.ann_layer_sizes[2], self.ann_layer_sizes[3]),\n",
    "            nn.ReLU(),\n",
    "            nn.Dropout(self.dropout),\n",
    "            nn.Linear(self.ann_layer_sizes[3], 1),\n",
    "            nn.Sigmoid()\n",
    "\n",
    "        )\n",
    "    \n",
    "    def forward(self, real_image, generated_image):\n",
    "        x = torch.cat([real_image, generated_image], 2)\n",
    "        out = self.model(x)\n",
    "        return out\n",
    "\n",
    "    #its gonna be sequnce of conv2d layers an dense layersc  \n",
    "    #conv2d will demolishing the image then dense layers with 1 output layer proces the image\n",
    "    #probably :D"
   ]
  },
  {
   "cell_type": "markdown",
   "metadata": {},
   "source": [
    "### Train Function"
   ]
  },
  {
   "cell_type": "code",
   "execution_count": 46,
   "metadata": {},
   "outputs": [],
   "source": [
    "generator = Generator(g_input_size, g_encode_channel_sizes, g_encode_kernel_sizes,\n",
    "                      g_decode_channel_sizes, g_decode_kernel_sizes, g_upconv_pad_s,\n",
    "                      dropout).to(device)\n",
    "\n",
    "discriminator = Discriminator(d_input_size, d_channel_sizes, d_kernel_sizes,\n",
    "                              d_ann_sizes, dropout).to(device)"
   ]
  },
  {
   "cell_type": "code",
   "execution_count": 47,
   "metadata": {},
   "outputs": [],
   "source": [
    "# Loss Function\n",
    "criterion = nn.BCELoss()"
   ]
  },
  {
   "cell_type": "code",
   "execution_count": 48,
   "metadata": {},
   "outputs": [],
   "source": [
    "#Optimizer\n",
    "generator_optimizer = torch.optim.Adam(generator.parameters(), lr = learning_rate)\n",
    "discriminator_optimizer = torch.optim.Adam(discriminator.parameters(),lr = learning_rate)"
   ]
  },
  {
   "cell_type": "code",
   "execution_count": 49,
   "metadata": {},
   "outputs": [],
   "source": [
    "def generator_train_step(batch_size: int, instance_shape: list, discriminator, generator, generator_optimizer, criterion, label_image):\n",
    "\n",
    "    generator_optimizer.zero_grad()\n",
    "\n",
    "    noise = torch.randn(batch_size, instance_shape[0], instance_shape[1]).to(device)\n",
    "    \n",
    "    altered_image = generator(noise, label_image)\n",
    "\n",
    "    validity = discriminator(altered_image, label_image)\n",
    "\n",
    "    g_loss = criterion(validity, torch.ones(batch_size).to(device))\n",
    "    \n",
    "    g_loss.backward()\n",
    "\n",
    "    generator_optimizer.step()\n",
    "\n",
    "    return g_loss.data"
   ]
  },
  {
   "cell_type": "code",
   "execution_count": 57,
   "metadata": {},
   "outputs": [],
   "source": [
    "def discriminator_train_step(batch_size, discriminator, generator, discriminator_optimizer, \n",
    "                             criterion, real_image, other_real_image, instance_shape):\n",
    "    \n",
    "    discriminator_optimizer.zero_grad()\n",
    "\n",
    "    real_validity = (real_image, other_real_image)\n",
    "\n",
    "    real_loss = criterion(real_validity, Variable(torch.ones(batch_size)).to(device))\n",
    "\n",
    "    noise = torch.randn(batch_size, instance_shape[0], instance_shape[1])\n",
    "\n",
    "    altered_images = generator(noise, other_real_image)\n",
    "\n",
    "    altered_image_validity = discriminator(altered_images, other_real_image)\n",
    "\n",
    "    altered_image_loss = criterion(altered_image_validity, torch.ones(batch_size).to(device))\n",
    "\n",
    "    discriminator_loss = altered_image_loss, real_loss\n",
    "\n",
    "    discriminator_loss.backward()\n",
    "\n",
    "    discriminator_loss.step()\n",
    "\n",
    "    return discriminator_loss.data"
   ]
  },
  {
   "cell_type": "code",
   "execution_count": 58,
   "metadata": {},
   "outputs": [
    {
     "name": "stdout",
     "output_type": "stream",
     "text": [
      "Starting epoch 1...\n"
     ]
    },
    {
     "ename": "AttributeError",
     "evalue": "'tuple' object has no attribute 'size'",
     "output_type": "error",
     "traceback": [
      "\u001b[1;31m---------------------------------------------------------------------------\u001b[0m",
      "\u001b[1;31mAttributeError\u001b[0m                            Traceback (most recent call last)",
      "Cell \u001b[1;32mIn[58], line 12\u001b[0m\n\u001b[0;32m      8\u001b[0m     green_apples \u001b[38;5;241m=\u001b[39m green_apples\u001b[38;5;241m.\u001b[39mto(device)\n\u001b[0;32m     10\u001b[0m     generator\u001b[38;5;241m.\u001b[39mtrain()\n\u001b[1;32m---> 12\u001b[0m     d_loss \u001b[38;5;241m=\u001b[39m \u001b[43mdiscriminator_train_step\u001b[49m\u001b[43m(\u001b[49m\u001b[43mbatch_size\u001b[49m\u001b[43m,\u001b[49m\u001b[43m \u001b[49m\u001b[43mdiscriminator\u001b[49m\u001b[43m,\u001b[49m\n\u001b[0;32m     13\u001b[0m \u001b[43m                                      \u001b[49m\u001b[43mgenerator\u001b[49m\u001b[43m,\u001b[49m\u001b[43m \u001b[49m\u001b[43mdiscriminator_optimizer\u001b[49m\u001b[43m,\u001b[49m\n\u001b[0;32m     14\u001b[0m \u001b[43m                                      \u001b[49m\u001b[43mcriterion\u001b[49m\u001b[43m,\u001b[49m\u001b[43m \u001b[49m\u001b[43mred_apples\u001b[49m\u001b[43m,\u001b[49m\u001b[43m \u001b[49m\u001b[43mgreen_apples\u001b[49m\u001b[43m,\u001b[49m\u001b[43m \u001b[49m\u001b[43m(\u001b[49m\u001b[38;5;241;43m256\u001b[39;49m\u001b[43m,\u001b[49m\u001b[43m \u001b[49m\u001b[38;5;241;43m256\u001b[39;49m\u001b[43m)\u001b[49m\u001b[43m)\u001b[49m\n\u001b[0;32m     16\u001b[0m     g_loss \u001b[38;5;241m=\u001b[39m generator_train_step(batch_size, (\u001b[38;5;241m256\u001b[39m, \u001b[38;5;241m256\u001b[39m), discriminator, \n\u001b[0;32m     17\u001b[0m                                   generator, generator_optimizer, criterion)\n\u001b[0;32m     19\u001b[0m generator\u001b[38;5;241m.\u001b[39meval()\n",
      "Cell \u001b[1;32mIn[57], line 8\u001b[0m, in \u001b[0;36mdiscriminator_train_step\u001b[1;34m(batch_size, discriminator, generator, discriminator_optimizer, criterion, real_image, other_real_image, instance_shape)\u001b[0m\n\u001b[0;32m      4\u001b[0m discriminator_optimizer\u001b[38;5;241m.\u001b[39mzero_grad()\n\u001b[0;32m      6\u001b[0m real_validity \u001b[38;5;241m=\u001b[39m (real_image, other_real_image)\n\u001b[1;32m----> 8\u001b[0m real_loss \u001b[38;5;241m=\u001b[39m \u001b[43mcriterion\u001b[49m\u001b[43m(\u001b[49m\u001b[43mreal_validity\u001b[49m\u001b[43m,\u001b[49m\u001b[43m \u001b[49m\u001b[43mVariable\u001b[49m\u001b[43m(\u001b[49m\u001b[43mtorch\u001b[49m\u001b[38;5;241;43m.\u001b[39;49m\u001b[43mones\u001b[49m\u001b[43m(\u001b[49m\u001b[43mbatch_size\u001b[49m\u001b[43m)\u001b[49m\u001b[43m)\u001b[49m\u001b[38;5;241;43m.\u001b[39;49m\u001b[43mto\u001b[49m\u001b[43m(\u001b[49m\u001b[43mdevice\u001b[49m\u001b[43m)\u001b[49m\u001b[43m)\u001b[49m\n\u001b[0;32m     10\u001b[0m noise \u001b[38;5;241m=\u001b[39m torch\u001b[38;5;241m.\u001b[39mrandn(batch_size, instance_shape[\u001b[38;5;241m0\u001b[39m], instance_shape[\u001b[38;5;241m1\u001b[39m])\n\u001b[0;32m     12\u001b[0m altered_images \u001b[38;5;241m=\u001b[39m generator(noise, other_real_image)\n",
      "File \u001b[1;32mc:\\Python311\\Lib\\site-packages\\torch\\nn\\modules\\module.py:1511\u001b[0m, in \u001b[0;36mModule._wrapped_call_impl\u001b[1;34m(self, *args, **kwargs)\u001b[0m\n\u001b[0;32m   1509\u001b[0m     \u001b[38;5;28;01mreturn\u001b[39;00m \u001b[38;5;28mself\u001b[39m\u001b[38;5;241m.\u001b[39m_compiled_call_impl(\u001b[38;5;241m*\u001b[39margs, \u001b[38;5;241m*\u001b[39m\u001b[38;5;241m*\u001b[39mkwargs)  \u001b[38;5;66;03m# type: ignore[misc]\u001b[39;00m\n\u001b[0;32m   1510\u001b[0m \u001b[38;5;28;01melse\u001b[39;00m:\n\u001b[1;32m-> 1511\u001b[0m     \u001b[38;5;28;01mreturn\u001b[39;00m \u001b[38;5;28;43mself\u001b[39;49m\u001b[38;5;241;43m.\u001b[39;49m\u001b[43m_call_impl\u001b[49m\u001b[43m(\u001b[49m\u001b[38;5;241;43m*\u001b[39;49m\u001b[43margs\u001b[49m\u001b[43m,\u001b[49m\u001b[43m \u001b[49m\u001b[38;5;241;43m*\u001b[39;49m\u001b[38;5;241;43m*\u001b[39;49m\u001b[43mkwargs\u001b[49m\u001b[43m)\u001b[49m\n",
      "File \u001b[1;32mc:\\Python311\\Lib\\site-packages\\torch\\nn\\modules\\module.py:1520\u001b[0m, in \u001b[0;36mModule._call_impl\u001b[1;34m(self, *args, **kwargs)\u001b[0m\n\u001b[0;32m   1515\u001b[0m \u001b[38;5;66;03m# If we don't have any hooks, we want to skip the rest of the logic in\u001b[39;00m\n\u001b[0;32m   1516\u001b[0m \u001b[38;5;66;03m# this function, and just call forward.\u001b[39;00m\n\u001b[0;32m   1517\u001b[0m \u001b[38;5;28;01mif\u001b[39;00m \u001b[38;5;129;01mnot\u001b[39;00m (\u001b[38;5;28mself\u001b[39m\u001b[38;5;241m.\u001b[39m_backward_hooks \u001b[38;5;129;01mor\u001b[39;00m \u001b[38;5;28mself\u001b[39m\u001b[38;5;241m.\u001b[39m_backward_pre_hooks \u001b[38;5;129;01mor\u001b[39;00m \u001b[38;5;28mself\u001b[39m\u001b[38;5;241m.\u001b[39m_forward_hooks \u001b[38;5;129;01mor\u001b[39;00m \u001b[38;5;28mself\u001b[39m\u001b[38;5;241m.\u001b[39m_forward_pre_hooks\n\u001b[0;32m   1518\u001b[0m         \u001b[38;5;129;01mor\u001b[39;00m _global_backward_pre_hooks \u001b[38;5;129;01mor\u001b[39;00m _global_backward_hooks\n\u001b[0;32m   1519\u001b[0m         \u001b[38;5;129;01mor\u001b[39;00m _global_forward_hooks \u001b[38;5;129;01mor\u001b[39;00m _global_forward_pre_hooks):\n\u001b[1;32m-> 1520\u001b[0m     \u001b[38;5;28;01mreturn\u001b[39;00m \u001b[43mforward_call\u001b[49m\u001b[43m(\u001b[49m\u001b[38;5;241;43m*\u001b[39;49m\u001b[43margs\u001b[49m\u001b[43m,\u001b[49m\u001b[43m \u001b[49m\u001b[38;5;241;43m*\u001b[39;49m\u001b[38;5;241;43m*\u001b[39;49m\u001b[43mkwargs\u001b[49m\u001b[43m)\u001b[49m\n\u001b[0;32m   1522\u001b[0m \u001b[38;5;28;01mtry\u001b[39;00m:\n\u001b[0;32m   1523\u001b[0m     result \u001b[38;5;241m=\u001b[39m \u001b[38;5;28;01mNone\u001b[39;00m\n",
      "File \u001b[1;32mc:\\Python311\\Lib\\site-packages\\torch\\nn\\modules\\loss.py:618\u001b[0m, in \u001b[0;36mBCELoss.forward\u001b[1;34m(self, input, target)\u001b[0m\n\u001b[0;32m    617\u001b[0m \u001b[38;5;28;01mdef\u001b[39;00m \u001b[38;5;21mforward\u001b[39m(\u001b[38;5;28mself\u001b[39m, \u001b[38;5;28minput\u001b[39m: Tensor, target: Tensor) \u001b[38;5;241m-\u001b[39m\u001b[38;5;241m>\u001b[39m Tensor:\n\u001b[1;32m--> 618\u001b[0m     \u001b[38;5;28;01mreturn\u001b[39;00m \u001b[43mF\u001b[49m\u001b[38;5;241;43m.\u001b[39;49m\u001b[43mbinary_cross_entropy\u001b[49m\u001b[43m(\u001b[49m\u001b[38;5;28;43minput\u001b[39;49m\u001b[43m,\u001b[49m\u001b[43m \u001b[49m\u001b[43mtarget\u001b[49m\u001b[43m,\u001b[49m\u001b[43m \u001b[49m\u001b[43mweight\u001b[49m\u001b[38;5;241;43m=\u001b[39;49m\u001b[38;5;28;43mself\u001b[39;49m\u001b[38;5;241;43m.\u001b[39;49m\u001b[43mweight\u001b[49m\u001b[43m,\u001b[49m\u001b[43m \u001b[49m\u001b[43mreduction\u001b[49m\u001b[38;5;241;43m=\u001b[39;49m\u001b[38;5;28;43mself\u001b[39;49m\u001b[38;5;241;43m.\u001b[39;49m\u001b[43mreduction\u001b[49m\u001b[43m)\u001b[49m\n",
      "File \u001b[1;32mc:\\Python311\\Lib\\site-packages\\torch\\nn\\functional.py:3117\u001b[0m, in \u001b[0;36mbinary_cross_entropy\u001b[1;34m(input, target, weight, size_average, reduce, reduction)\u001b[0m\n\u001b[0;32m   3115\u001b[0m \u001b[38;5;28;01melse\u001b[39;00m:\n\u001b[0;32m   3116\u001b[0m     reduction_enum \u001b[38;5;241m=\u001b[39m _Reduction\u001b[38;5;241m.\u001b[39mget_enum(reduction)\n\u001b[1;32m-> 3117\u001b[0m \u001b[38;5;28;01mif\u001b[39;00m target\u001b[38;5;241m.\u001b[39msize() \u001b[38;5;241m!=\u001b[39m \u001b[38;5;28;43minput\u001b[39;49m\u001b[38;5;241;43m.\u001b[39;49m\u001b[43msize\u001b[49m():\n\u001b[0;32m   3118\u001b[0m     \u001b[38;5;28;01mraise\u001b[39;00m \u001b[38;5;167;01mValueError\u001b[39;00m(\n\u001b[0;32m   3119\u001b[0m         \u001b[38;5;124m\"\u001b[39m\u001b[38;5;124mUsing a target size (\u001b[39m\u001b[38;5;132;01m{}\u001b[39;00m\u001b[38;5;124m) that is different to the input size (\u001b[39m\u001b[38;5;132;01m{}\u001b[39;00m\u001b[38;5;124m) is deprecated. \u001b[39m\u001b[38;5;124m\"\u001b[39m\n\u001b[0;32m   3120\u001b[0m         \u001b[38;5;124m\"\u001b[39m\u001b[38;5;124mPlease ensure they have the same size.\u001b[39m\u001b[38;5;124m\"\u001b[39m\u001b[38;5;241m.\u001b[39mformat(target\u001b[38;5;241m.\u001b[39msize(), \u001b[38;5;28minput\u001b[39m\u001b[38;5;241m.\u001b[39msize())\n\u001b[0;32m   3121\u001b[0m     )\n\u001b[0;32m   3123\u001b[0m \u001b[38;5;28;01mif\u001b[39;00m weight \u001b[38;5;129;01mis\u001b[39;00m \u001b[38;5;129;01mnot\u001b[39;00m \u001b[38;5;28;01mNone\u001b[39;00m:\n",
      "\u001b[1;31mAttributeError\u001b[0m: 'tuple' object has no attribute 'size'"
     ]
    }
   ],
   "source": [
    "for epoch in range(epochs):\n",
    "\n",
    "    print(\"Starting epoch {}...\".format(epoch + 1))\n",
    "\n",
    "    for red_apples, green_apples in zip(red_data_loader, green_data_loader):\n",
    "        \n",
    "        red_apples = red_apples.to(device) \n",
    "        green_apples = green_apples.to(device)\n",
    "\n",
    "        generator.train()\n",
    "\n",
    "        d_loss = discriminator_train_step(batch_size, discriminator,\n",
    "                                          generator, discriminator_optimizer,\n",
    "                                          criterion, red_apples, green_apples, (256, 256))\n",
    "        \n",
    "        g_loss = generator_train_step(batch_size, (256, 256), discriminator, \n",
    "                                      generator, generator_optimizer, criterion)\n",
    "    \n",
    "    generator.eval()\n",
    "\n",
    "    print(\"generator loss: {}, discriminator loss: {}\".format(g_loss, d_loss))\n",
    "\n"
   ]
  }
 ],
 "metadata": {
  "kernelspec": {
   "display_name": "Python 3",
   "language": "python",
   "name": "python3"
  },
  "language_info": {
   "codemirror_mode": {
    "name": "ipython",
    "version": 3
   },
   "file_extension": ".py",
   "mimetype": "text/x-python",
   "name": "python",
   "nbconvert_exporter": "python",
   "pygments_lexer": "ipython3",
   "version": "3.11.3"
  }
 },
 "nbformat": 4,
 "nbformat_minor": 2
}

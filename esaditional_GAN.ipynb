{
 "cells": [
  {
   "cell_type": "code",
   "execution_count": 1,
   "metadata": {},
   "outputs": [],
   "source": [
    "import os\n",
    "import torch\n",
    "import torch.nn as nn\n",
    "import pandas as pd\n",
    "import numpy as np\n",
    "from torchvision import transforms\n",
    "from torch.utils.data import Dataset, DataLoader\n",
    "from PIL import Image\n",
    "from torch import autograd\n",
    "from torch.autograd import Variable\n",
    "from torchvision.utils import make_grid\n",
    "import matplotlib.pyplot as plt"
   ]
  },
  {
   "cell_type": "code",
   "execution_count": 3,
   "metadata": {},
   "outputs": [],
   "source": [
    "red_apples = []\n",
    "green_apples = []\n",
    "\n",
    "for directory in os.listdir(r\"C:\\Python_Projects\\esaditional_GAN\\conditional-GAN\\datasett\"):\n",
    "    path = os.path.join(r\"C:\\Python_Projects\\esaditional_GAN\\conditional-GAN\\datasett\", directory)\n",
    "    for image_name in os.listdir(path):\n",
    "        image_path = os.path.join(path, image_name)\n",
    "        image = Image.open(image_path)\n",
    "        image = image.convert(\"RGB\")\n",
    "        if (directory == \"red_apples\"):\n",
    "            img = np.asarray(image)\n",
    "            red_apples.append(img)\n",
    "        elif (directory == \"green_apples\"):\n",
    "            img = np.asarray(image)\n",
    "            green_apples.append(img)"
   ]
  },
  {
   "cell_type": "code",
   "execution_count": 4,
   "metadata": {},
   "outputs": [
    {
     "data": {
      "text/plain": [
       "(300, 300, 3)"
      ]
     },
     "execution_count": 4,
     "metadata": {},
     "output_type": "execute_result"
    }
   ],
   "source": [
    "a = red_apples[1]\n",
    "\n",
    "a.shape"
   ]
  },
  {
   "cell_type": "markdown",
   "metadata": {},
   "source": [
    "Generator and Discriminator blocks"
   ]
  },
  {
   "cell_type": "code",
   "execution_count": null,
   "metadata": {},
   "outputs": [],
   "source": [
    "class Generator(nn.Module):\n",
    "    def __init__(self, \n",
    "                input_channels: int ,\n",
    "                encode_channel_sizes: list,\n",
    "                encode_kernel_sizes: list, \n",
    "\n",
    "                decode_channel_sizes: list, \n",
    "                decode_kernel_sizes,\n",
    "                 \n",
    "                dropout: float, \n",
    "\n",
    "                noise_size: int,                  \n",
    "                sat_im_size: list) -> None:\n",
    "        \n",
    "        self.input_channels: int = input_channels\n",
    "        self.encode_channel_sizes: list = encode_channel_sizes\n",
    "        self.encode_kernel_sizes: list = encode_kernel_sizes\n",
    "\n",
    "        self.decode_channel_sizes: list = decode_channel_sizes\n",
    "        self.decode_kernel_sizes: list = decode_kernel_sizes\n",
    "\n",
    "        self.dropout: int = dropout\n",
    "\n",
    "        super().__init__()\n",
    "        \n",
    "        self.model = nn.Sequential(\n",
    "            nn.Conv2d(self.input_channels, self.encode_channel_sizes[0], self.encode_kernel_sizes[0]),\n",
    "            nn.Conv2d(self.encode_channel_sizes[0], self.encode_channel_sizes[0], self.encode_channel_sizes[0]),\n",
    "            nn.MaxPool2d(kernel_size= 2, stride= 2),\n",
    "            nn.Dropout(self.dropout),\n",
    "\n",
    "            nn.Conv2d(self.encode_channel_sizes[0], self.encode_channel_sizes[1], self.encode_kernel_sizes[1]),\n",
    "            nn.Conv2d(self.encode_channel_sizes[1], self.encode_channel_sizes[1], self.encode_kernel_sizes[1]),\n",
    "            nn.MaxPool2d(kernel_size= 2, stride= 2),\n",
    "            nn.Dropout(self.dropout),    \n",
    "\n",
    "            nn.Conv2d(self.encode_channel_sizes[1], self.encode_channel_sizes[2], self.encode_kernel_sizes[2]),\n",
    "            nn.Conv2d(self.encode_channel_sizes[2], self.encode_channel_sizes[2], self.encode_kernel_sizes[2]),\n",
    "            nn.MaxPool2d(kernel_size= 2, stride= 2),\n",
    "            nn.Dropout(self.dropout),\n",
    "\n",
    "            #here may come some ANN layers \n",
    "            #idk why :D\n",
    "            \n",
    "            nn.ConvTranspose2d(self.encode_channel_sizes[2], self.decode_channel_sizes[0], self.decode_kernel_sizes[0]),\n",
    "            nn.Conv2d(self.decode_channel_sizes[0], self.decode_channel_sizes[0], self.decode_kernel_sizes[0]),\n",
    "            nn.Conv2d(self.decode_channel_sizes[0], self.decode_channel_sizes[0], self.decode_kernel_sizes[0]),\n",
    "            nn.Dropout(self.dropout),\n",
    "\n",
    "            nn.ConvTranspose2d(self.decode_channel_sizes[0], self.decode_channel_sizes[1], self.decode_kernel_sizes[1]),\n",
    "            nn.Conv2d(self.decode_channel_sizes[1], self.decode_channel_sizes[1], self.decode_kernel_sizes[1]),\n",
    "            nn.Conv2d(self.decode_channel_sizes[1], self.decode_channel_sizes[1], self.decode_kernel_sizes[1]),\n",
    "            nn.Dropout(self.dropout),\n",
    "\n",
    "            nn.ConvTranspose2d(self.decode_channel_sizes[1], self.decode_channel_sizes[2], self.decode_kernel_sizes[2]),\n",
    "            nn.Conv2d(self.decode_channel_sizes[2], self.decode_channel_sizes[2], self.decode_kernel_sizes[2]),\n",
    "            nn.Conv2d(self.decode_channel_sizes[2], self.decode_channel_sizes[2], self.decode_kernel_sizes[2]),\n",
    "            nn.Dropout(self.dropout)\n",
    "            )\n",
    "        \n",
    "    def forward(self, noise: torch.Tensor, lable_image: torch.Tensor):\n",
    "        \n",
    "        x = torch.cat([noise, lable_image], 2)\n",
    "\n",
    "        out = self.model(x)\n",
    "\n",
    "        return out"
   ]
  },
  {
   "cell_type": "code",
   "execution_count": null,
   "metadata": {},
   "outputs": [],
   "source": [
    "class Discriminator(nn.Module):\n",
    "    def __init__(self) -> None:\n",
    "        super().__init__()\n",
    "\n",
    "    #its gonna be sequnce of conv2d layers an dense layers\n",
    "    #conv2d will demolishing the image then dense layers with 1 output layer proces the image\n",
    "    #probably :D"
   ]
  },
  {
   "cell_type": "code",
   "execution_count": null,
   "metadata": {},
   "outputs": [],
   "source": [
    "def Generator_Train():\n",
    "    return None"
   ]
  }
 ],
 "metadata": {
  "kernelspec": {
   "display_name": "Python 3",
   "language": "python",
   "name": "python3"
  },
  "language_info": {
   "codemirror_mode": {
    "name": "ipython",
    "version": 3
   },
   "file_extension": ".py",
   "mimetype": "text/x-python",
   "name": "python",
   "nbconvert_exporter": "python",
   "pygments_lexer": "ipython3",
   "version": "3.11.3"
  }
 },
 "nbformat": 4,
 "nbformat_minor": 2
}

{
 "cells": [
  {
   "cell_type": "code",
   "execution_count": 1,
   "metadata": {},
   "outputs": [],
   "source": [
    "import os\n",
    "import torch\n",
    "import torch.nn as nn\n",
    "import pandas as pd\n",
    "import numpy as np\n",
    "from torchvision import transforms\n",
    "from torch.utils.data import Dataset, DataLoader\n",
    "from PIL import Image\n",
    "from torch import autograd\n",
    "from torch.autograd import Variable\n",
    "from torchvision.utils import make_grid\n",
    "import matplotlib.pyplot as plt"
   ]
  },
  {
   "cell_type": "code",
   "execution_count": 49,
   "metadata": {},
   "outputs": [],
   "source": [
    "def data_read(path):\n",
    "    readed_data = []\n",
    "    for image_name in os.listdir(path):\n",
    "        image_path = os.path.join(path, image_name)\n",
    "        image = Image.open(image_path)\n",
    "        image = image.convert(\"RGB\")\n",
    "        readed_data.append(image)\n",
    "    return readed_data\n",
    "\n",
    "class Apple_Dataset(Dataset):\n",
    "    def __init__(self, path, transform= None) -> None:\n",
    "        super().__init__()\n",
    "        self.transform = transform\n",
    "        self.images = data_read(path)\n",
    "        print(\"sizes: \", len(self.images))\n",
    "    \n",
    "    def __len__(self):\n",
    "        return len(self.images)\n",
    "\n",
    "    def __getitem__(self, index):\n",
    "        image = self.images[index]\n",
    "        if self.transform:\n",
    "            image = self.transform(image)\n",
    "        return image\n",
    "    \n",
    "\n",
    "transform = transforms.Compose([\n",
    "    transforms.Resize((256, 256)),\n",
    "    transforms.ToTensor()\n",
    "])"
   ]
  },
  {
   "cell_type": "code",
   "execution_count": 36,
   "metadata": {},
   "outputs": [],
   "source": [
    "red_apples_path = r\"C:\\Python_Projects\\esaditional_GAN\\conditional-GAN\\datasett\\red_apples\"\n",
    "green_apples_path = r\"C:\\Python_Projects\\esaditional_GAN\\conditional-GAN\\datasett\\green_apples\"\n",
    "\n",
    "batch_size = 8\n",
    "epochs = 5\n",
    "\n",
    "input_size = 4\n",
    "encode_channel_sizes = [16, 32, 64]\n",
    "encode_kernel_sizes = [3, 3, 3]\n",
    "\n",
    "decode_channel_sizes = [64, 32, 16]\n",
    "decode_kernel_sizes = [3, 3, 3]\n",
    "\n",
    "d_input_size = 6\n",
    "d_channel_sizes = [16, 32, 64]\n",
    "d_kernel_sizes = [3, 3, 3]\n",
    "d_ann_sizes = []\n",
    "\n"
   ]
  },
  {
   "cell_type": "code",
   "execution_count": 50,
   "metadata": {},
   "outputs": [
    {
     "name": "stdout",
     "output_type": "stream",
     "text": [
      "sizes:  67\n"
     ]
    }
   ],
   "source": [
    "red_dataset = Apple_Dataset(red_apples_path, transform=transform)\n",
    "red_data_loader = torch.utils.data.DataLoader(red_dataset, batch_size, shuffle= True)"
   ]
  },
  {
   "cell_type": "code",
   "execution_count": 7,
   "metadata": {},
   "outputs": [
    {
     "name": "stdout",
     "output_type": "stream",
     "text": [
      "sizes:  67\n"
     ]
    }
   ],
   "source": [
    "green_dataset = Apple_Dataset(green_apples_path, transform = transform)\n",
    "green_data_loader = torch.utils.data.DataLoader(green_dataset, batch_size, shuffle= True)"
   ]
  },
  {
   "cell_type": "code",
   "execution_count": 52,
   "metadata": {},
   "outputs": [
    {
     "data": {
      "text/plain": [
       "torch.Size([3, 256, 256])"
      ]
     },
     "execution_count": 52,
     "metadata": {},
     "output_type": "execute_result"
    }
   ],
   "source": [
    "red_dataset[0].size()"
   ]
  },
  {
   "cell_type": "markdown",
   "metadata": {},
   "source": [
    "### Generator and Discriminator blocks"
   ]
  },
  {
   "cell_type": "code",
   "execution_count": 103,
   "metadata": {},
   "outputs": [],
   "source": [
    "class Generator(nn.Module):\n",
    "    def __init__(self, \n",
    "                input_channels: int,\n",
    "                encode_channel_sizes: list,\n",
    "                encode_kernel_sizes: list, \n",
    "\n",
    "                decode_channel_sizes: list, \n",
    "                decode_kernel_sizes: list,\n",
    "                 \n",
    "                dropout: float, \n",
    "                ) -> None:\n",
    "        \n",
    "        self.input_channels: int = input_channels\n",
    "        self.encode_channel_sizes: list = encode_channel_sizes\n",
    "        self.encode_kernel_sizes: list = encode_kernel_sizes\n",
    "\n",
    "        self.decode_channel_sizes: list = decode_channel_sizes\n",
    "        self.decode_kernel_sizes: list = decode_kernel_sizes\n",
    "\n",
    "        self.dropout: float = dropout\n",
    "\n",
    "        super().__init__()\n",
    "        \n",
    "        self.model = nn.Sequential(\n",
    "            nn.Conv2d(self.input_channels, self.encode_channel_sizes[0], self.encode_kernel_sizes[0], padding= \"same\"), # 4-256-256 -> 16-256-256\n",
    "            #nn.Conv2d(self.encode_channel_sizes[0], self.encode_channel_sizes[0], self.encode_channel_sizes[0], padding= \"same\"), # 16-256-256 -> 16-256-256\n",
    "            nn.ReLU(),\n",
    "            nn.MaxPool2d(kernel_size= 2, stride= 2), # 16-256-256 -> 16-128-128\n",
    "            nn.Dropout(self.dropout),\n",
    "\n",
    "            nn.Conv2d(self.encode_channel_sizes[0], self.encode_channel_sizes[1], self.encode_kernel_sizes[1], padding= \"same\"), #16-128-128 -> 32-128-128\n",
    "            #nn.Conv2d(self.encode_channel_sizes[1], self.encode_channel_sizes[1], self.encode_kernel_sizes[1], padding= \"same\"), #32-128-128 -> 32-128-128\n",
    "            nn.ReLU(),\n",
    "            nn.MaxPool2d(kernel_size= 2, stride= 2), #32-128-128 -> 32-64-64\n",
    "            nn.Dropout(self.dropout),    \n",
    "\n",
    "            nn.Conv2d(self.encode_channel_sizes[1], self.encode_channel_sizes[2], self.encode_kernel_sizes[2], padding= \"same\"), # 32-64-64 -> 64-64-64\n",
    "            #nn.Conv2d(self.encode_channel_sizes[2], self.encode_channel_sizes[2], self.encode_kernel_sizes[2], padding= \"same\"), # 64-64-64 -> 64-64-64\n",
    "            nn.ReLU(),\n",
    "            nn.MaxPool2d(kernel_size= 2, stride= 2), # 64-64-64 -> 64-32-32\n",
    "            nn.Dropout(self.dropout),\n",
    "\n",
    "            #here may come some ANN layers \n",
    "            #idk why :D\n",
    "            \n",
    "            nn.ConvTranspose2d(self.encode_channel_sizes[2], self.decode_channel_sizes[0], self.decode_kernel_sizes[0], stride= 2), # 64-64-64 -> 32-128-128\n",
    "            nn.Conv2d(self.decode_channel_sizes[0], self.decode_channel_sizes[0], self.decode_kernel_sizes[0], padding= \"same\"), # 32-128-128 -> 32-128-128\n",
    "            #nn.Conv2d(self.decode_channel_sizes[0], self.decode_channel_sizes[0], self.decode_kernel_sizes[0], padding= \"same\"), # 32-128-128 -> 32-128-128\n",
    "            nn.ReLU(),\n",
    "            nn.Dropout(self.dropout),\n",
    "\n",
    "            nn.ConvTranspose2d(self.decode_channel_sizes[0], self.decode_channel_sizes[1], self.decode_kernel_sizes[1], stride= 2), # 32-128-128 -> 16-256-256 \n",
    "            nn.Conv2d(self.decode_channel_sizes[1], self.decode_channel_sizes[1], self.decode_kernel_sizes[1], padding= \"same\"), # 16-256-256 -> 16-256-256\n",
    "            #nn.Conv2d(self.decode_channel_sizes[1], self.decode_channel_sizes[1], self.decode_kernel_sizes[1], padding= \"same\"), # 16-256-256 -> 16-256-256\n",
    "            nn.ReLU(),\n",
    "            nn.Dropout(self.dropout),\n",
    "\n",
    "            nn.ConvTranspose2d(self.decode_channel_sizes[1], self.decode_channel_sizes[2], self.decode_kernel_sizes[2]), # 16-256-256 -> 3-256-256\n",
    "            nn.Conv2d(self.decode_channel_sizes[2], self.decode_channel_sizes[2], self.decode_kernel_sizes[2], padding= \"same\"), # 3-256-256 -> 3-256-256\n",
    "            #nn.Conv2d(self.decode_channel_sizes[2], self.decode_channel_sizes[2], self.decode_kernel_sizes[2], padding= \"same\"), # 3-256-256 -> 3-256-256\n",
    "            nn.ReLU(),\n",
    "            nn.Dropout(self.dropout)\n",
    "            )\n",
    "        \n",
    "    def forward(self, noise: torch.Tensor, lable_image: torch.Tensor):\n",
    "        \n",
    "        x = torch.cat([noise, lable_image], 2)\n",
    "\n",
    "        out = self.model(x)\n",
    "\n",
    "        return out"
   ]
  },
  {
   "cell_type": "code",
   "execution_count": 99,
   "metadata": {},
   "outputs": [],
   "source": [
    "class Discriminator(nn.Module):\n",
    "    def __init__(self,\n",
    "                 input_chanel,\n",
    "                 channel_sizes,\n",
    "                 kernel_sizes,\n",
    "                 \n",
    "                 ann_layer_sizes,\n",
    "                 ) -> None:\n",
    "        \n",
    "        self.input_channel: int = input_chanel\n",
    "        self.channel_sizes: list = channel_sizes\n",
    "        self.kernel_sizes: list  = kernel_sizes\n",
    "\n",
    "        self.ann_layer_sizes: list = ann_layer_sizes\n",
    "\n",
    "        super().__init__()\n",
    "        \n",
    "        self.model = nn.Sequential(\n",
    "            nn.Conv2d(self.input_channel, self.channel_sizes[0], self.kernel_sizes[0], padding= \"same\"), # 6-256-256 -> 16-256-256\n",
    "            #nn.Conv2d(self.channel_sizes[0], self.channel_sizes[0], self.kernel_sizes[0], padding= \"same\"), # 16-256-256 -> 16-256-256\n",
    "            nn.ReLU(),\n",
    "            nn.MaxPool2d(kernel_size= 2, stride= 2), # 16-256-256 -> 16-128-128\n",
    "\n",
    "            nn.Conv2d(self.channel_sizes[0], self.channel_sizes[1], self.kernel_sizes[1], padding= \"same\"), # 16-128-128 -> 32-128-128\n",
    "            #nn.Conv2d(self.channel_sizes[1], self.channel_sizes[1], self.kernel_sizes[1], padding= \"same\"), # 32-128-128 -> 32-128-128\n",
    "            nn.ReLU(),\n",
    "            nn.MaxPool2d(kernel_size= 2, stride= 2), # 32-128-128 - 32-64-64\n",
    "\n",
    "            nn.Conv2d(self.channel_sizes[1], self.channel_sizes[2], self.kernel_sizes[2], padding= \"same\"), # 32-64-64 -> 64-64-64\n",
    "            #nn.Conv2d(self.channel_sizes[2], self.channel_sizes[2], self.kernel_sizes[2], padding= \"same\"), # 64-64-64 -> 64-64-64\n",
    "            nn.ReLU(),\n",
    "            nn.MaxPool2d(kernel_size= 2, stride= 2), # 64-64-64 -> 64-32-32\n",
    "            \n",
    "            nn.Flatten(),\n",
    "\n",
    "            nn.Linear(self.ann_layer_sizes[0], self.ann_layer_sizes[1]),\n",
    "            nn.ReLU(),\n",
    "            nn.Linear(self.ann_layer_sizes[1], self.ann_layer_sizes[2]),    \n",
    "            nn.ReLU(),\n",
    "            nn.Linear(self.ann_layer_sizes[2], self.ann_layer_sizes[3]),\n",
    "            nn.ReLU(),\n",
    "            nn.Linear(self.ann_layer_sizes[3], 1),\n",
    "            nn.Sigmoid()\n",
    "\n",
    "        )\n",
    "    \n",
    "    def forward(self, real_image, generated_image):\n",
    "        x = torch.cat([real_image, generated_image], 2)\n",
    "        out = self.model(x)\n",
    "        return out\n",
    "\n",
    "    #its gonna be sequnce of conv2d layers an dense layersc  \n",
    "    #conv2d will demolishing the image then dense layers with 1 output layer proces the image\n",
    "    #probably :D"
   ]
  },
  {
   "cell_type": "markdown",
   "metadata": {},
   "source": [
    "### Train Function"
   ]
  },
  {
   "cell_type": "code",
   "execution_count": 100,
   "metadata": {},
   "outputs": [],
   "source": [
    "# Loss Function\n",
    "\n",
    "criterion = nn.BCELoss()"
   ]
  },
  {
   "cell_type": "code",
   "execution_count": 102,
   "metadata": {},
   "outputs": [
    {
     "ename": "TypeError",
     "evalue": "'function' object is not iterable",
     "output_type": "error",
     "traceback": [
      "\u001b[1;31m---------------------------------------------------------------------------\u001b[0m",
      "\u001b[1;31mTypeError\u001b[0m                                 Traceback (most recent call last)",
      "Cell \u001b[1;32mIn[102], line 3\u001b[0m\n\u001b[0;32m      1\u001b[0m \u001b[38;5;66;03m#Optimizer\u001b[39;00m\n\u001b[1;32m----> 3\u001b[0m generator_optimizer \u001b[38;5;241m=\u001b[39m \u001b[43mtorch\u001b[49m\u001b[38;5;241;43m.\u001b[39;49m\u001b[43moptim\u001b[49m\u001b[38;5;241;43m.\u001b[39;49m\u001b[43mAdam\u001b[49m\u001b[43m(\u001b[49m\u001b[43mGenerator\u001b[49m\u001b[38;5;241;43m.\u001b[39;49m\u001b[43mparameters\u001b[49m\u001b[43m)\u001b[49m\n\u001b[0;32m      4\u001b[0m discriminator_optimizer \u001b[38;5;241m=\u001b[39m torch\u001b[38;5;241m.\u001b[39moptim\u001b[38;5;241m.\u001b[39mAdam(Discriminator\u001b[38;5;241m.\u001b[39mparameters)\n",
      "File \u001b[1;32mc:\\Python311\\Lib\\site-packages\\torch\\optim\\adam.py:45\u001b[0m, in \u001b[0;36mAdam.__init__\u001b[1;34m(self, params, lr, betas, eps, weight_decay, amsgrad, foreach, maximize, capturable, differentiable, fused)\u001b[0m\n\u001b[0;32m     39\u001b[0m     \u001b[38;5;28;01mraise\u001b[39;00m \u001b[38;5;167;01mValueError\u001b[39;00m(\u001b[38;5;124mf\u001b[39m\u001b[38;5;124m\"\u001b[39m\u001b[38;5;124mInvalid weight_decay value: \u001b[39m\u001b[38;5;132;01m{\u001b[39;00mweight_decay\u001b[38;5;132;01m}\u001b[39;00m\u001b[38;5;124m\"\u001b[39m)\n\u001b[0;32m     41\u001b[0m defaults \u001b[38;5;241m=\u001b[39m \u001b[38;5;28mdict\u001b[39m(lr\u001b[38;5;241m=\u001b[39mlr, betas\u001b[38;5;241m=\u001b[39mbetas, eps\u001b[38;5;241m=\u001b[39meps,\n\u001b[0;32m     42\u001b[0m                 weight_decay\u001b[38;5;241m=\u001b[39mweight_decay, amsgrad\u001b[38;5;241m=\u001b[39mamsgrad,\n\u001b[0;32m     43\u001b[0m                 maximize\u001b[38;5;241m=\u001b[39mmaximize, foreach\u001b[38;5;241m=\u001b[39mforeach, capturable\u001b[38;5;241m=\u001b[39mcapturable,\n\u001b[0;32m     44\u001b[0m                 differentiable\u001b[38;5;241m=\u001b[39mdifferentiable, fused\u001b[38;5;241m=\u001b[39mfused)\n\u001b[1;32m---> 45\u001b[0m \u001b[38;5;28;43msuper\u001b[39;49m\u001b[43m(\u001b[49m\u001b[43m)\u001b[49m\u001b[38;5;241;43m.\u001b[39;49m\u001b[38;5;21;43m__init__\u001b[39;49m\u001b[43m(\u001b[49m\u001b[43mparams\u001b[49m\u001b[43m,\u001b[49m\u001b[43m \u001b[49m\u001b[43mdefaults\u001b[49m\u001b[43m)\u001b[49m\n\u001b[0;32m     47\u001b[0m \u001b[38;5;28;01mif\u001b[39;00m fused:\n\u001b[0;32m     48\u001b[0m     \u001b[38;5;28;01mif\u001b[39;00m differentiable:\n",
      "File \u001b[1;32mc:\\Python311\\Lib\\site-packages\\torch\\optim\\optimizer.py:271\u001b[0m, in \u001b[0;36mOptimizer.__init__\u001b[1;34m(self, params, defaults)\u001b[0m\n\u001b[0;32m    268\u001b[0m \u001b[38;5;28mself\u001b[39m\u001b[38;5;241m.\u001b[39mstate: DefaultDict[torch\u001b[38;5;241m.\u001b[39mTensor, Any] \u001b[38;5;241m=\u001b[39m defaultdict(\u001b[38;5;28mdict\u001b[39m)\n\u001b[0;32m    269\u001b[0m \u001b[38;5;28mself\u001b[39m\u001b[38;5;241m.\u001b[39mparam_groups: List[Dict[\u001b[38;5;28mstr\u001b[39m, Any]] \u001b[38;5;241m=\u001b[39m []\n\u001b[1;32m--> 271\u001b[0m param_groups \u001b[38;5;241m=\u001b[39m \u001b[38;5;28;43mlist\u001b[39;49m\u001b[43m(\u001b[49m\u001b[43mparams\u001b[49m\u001b[43m)\u001b[49m\n\u001b[0;32m    272\u001b[0m \u001b[38;5;28;01mif\u001b[39;00m \u001b[38;5;28mlen\u001b[39m(param_groups) \u001b[38;5;241m==\u001b[39m \u001b[38;5;241m0\u001b[39m:\n\u001b[0;32m    273\u001b[0m     \u001b[38;5;28;01mraise\u001b[39;00m \u001b[38;5;167;01mValueError\u001b[39;00m(\u001b[38;5;124m\"\u001b[39m\u001b[38;5;124moptimizer got an empty parameter list\u001b[39m\u001b[38;5;124m\"\u001b[39m)\n",
      "\u001b[1;31mTypeError\u001b[0m: 'function' object is not iterable"
     ]
    }
   ],
   "source": [
    "#Optimizer\n",
    "\n",
    "generator_optimizer = torch.optim.Adam(Generator.parameters)\n",
    "discriminator_optimizer = torch.optim.Adam(Discriminator.parameters)"
   ]
  },
  {
   "cell_type": "code",
   "execution_count": 95,
   "metadata": {},
   "outputs": [],
   "source": [
    "def generator_train_step(batch_size: int, instance_shape: list, discriminator, generator, generator_optimizer, criterion, label_image):\n",
    "\n",
    "    generator_optimizer.zero_grad()\n",
    "\n",
    "    noise = torch.randn(batch_size, instance_shape[0], instance_shape[1])\n",
    "    \n",
    "    altered_image = generator(noise, label_image)\n",
    "\n",
    "    validity = discriminator(altered_image, label_image)\n",
    "\n",
    "    g_loss = criterion(validity, torch.ones(batch_size))\n",
    "    \n",
    "    g_loss.backward()\n",
    "\n",
    "    generator_optimizer.step()\n",
    "\n",
    "    return g_loss.data"
   ]
  },
  {
   "cell_type": "code",
   "execution_count": 96,
   "metadata": {},
   "outputs": [],
   "source": [
    "def discriminator_train_step(batch_size, discriminator, generator, discriminator_optimizer, criterioni, real_image, other_real_image, instance_shape):\n",
    "    \n",
    "    discriminator_optimizer.zero_grad()\n",
    "\n",
    "    real_validity = (real_image, other_real_image)\n",
    "\n",
    "    real_loss = criterion(real_validity, torch.ones(batch_size))\n",
    "\n",
    "    noise = torch.randn(batch_size, instance_shape[0], instance_shape[1])\n",
    "\n",
    "    altered_images = generator(noise, other_real_image)\n",
    "\n",
    "    altered_image_validity = discriminator(altered_images, other_real_image)\n",
    "\n",
    "    altered_image_loss = criterion(altered_image_validity, torch.ones(batch_size))\n",
    "\n",
    "    discriminator_loss = altered_image_loss, real_loss\n",
    "\n",
    "    discriminator_loss.backward()\n",
    "\n",
    "    discriminator_loss.step()\n",
    "\n",
    "    return discriminator_loss.data"
   ]
  },
  {
   "cell_type": "code",
   "execution_count": null,
   "metadata": {},
   "outputs": [],
   "source": [
    "for epoch in range(epochs):\n",
    "\n",
    "    print(\"Starting epoch {}...\".format(epoch + 1))\n",
    "\n",
    "    \n"
   ]
  }
 ],
 "metadata": {
  "kernelspec": {
   "display_name": "Python 3",
   "language": "python",
   "name": "python3"
  },
  "language_info": {
   "codemirror_mode": {
    "name": "ipython",
    "version": 3
   },
   "file_extension": ".py",
   "mimetype": "text/x-python",
   "name": "python",
   "nbconvert_exporter": "python",
   "pygments_lexer": "ipython3",
   "version": "3.11.3"
  }
 },
 "nbformat": 4,
 "nbformat_minor": 2
}

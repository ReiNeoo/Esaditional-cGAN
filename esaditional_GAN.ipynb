{
 "cells": [
  {
   "cell_type": "code",
   "execution_count": 57,
   "metadata": {},
   "outputs": [],
   "source": [
    "import os\n",
    "import torch\n",
    "import torch.nn as nn\n",
    "import pandas as pd\n",
    "import numpy as np\n",
    "from torchvision import transforms\n",
    "from torch.utils.data import Dataset, DataLoader\n",
    "from PIL import Image\n",
    "from torch import autograd\n",
    "from torch.autograd import Variable\n",
    "from torchsummary import summary\n",
    "from torchvision.utils import make_grid\n",
    "import matplotlib.pyplot as plt"
   ]
  },
  {
   "cell_type": "code",
   "execution_count": 58,
   "metadata": {},
   "outputs": [
    {
     "name": "stdout",
     "output_type": "stream",
     "text": [
      "torch version:  2.2.2+cpu\n",
      "device:  cpu\n"
     ]
    }
   ],
   "source": [
    "device = \"cuda\" if torch.cuda.is_available() else \"cpu\"\n",
    "\n",
    "print(\"torch version: \", torch.__version__)\n",
    "print(\"device: \", device)"
   ]
  },
  {
   "cell_type": "code",
   "execution_count": 59,
   "metadata": {},
   "outputs": [],
   "source": [
    "def data_read(path):\n",
    "    readed_data = []\n",
    "    for image_name in os.listdir(path):\n",
    "        image_path = os.path.join(path, image_name)\n",
    "        image = Image.open(image_path)\n",
    "        image = image.convert(\"RGB\")\n",
    "        readed_data.append(image)\n",
    "    return readed_data\n",
    "\n",
    "class Apple_Dataset(Dataset):\n",
    "    def __init__(self, path, transform= None) -> None:\n",
    "        super().__init__()\n",
    "        self.transform = transform\n",
    "        self.images = data_read(path)\n",
    "        print(\"sizes: \", len(self.images))\n",
    "    \n",
    "    def __len__(self):\n",
    "        return len(self.images)\n",
    "\n",
    "    def __getitem__(self, index):\n",
    "        image = self.images[index]\n",
    "        if self.transform:\n",
    "            image = self.transform(image)\n",
    "        return image\n",
    "    \n",
    "\n",
    "transform = transforms.Compose([\n",
    "    transforms.Resize((256, 256)),\n",
    "    transforms.ToTensor()\n",
    "])"
   ]
  },
  {
   "cell_type": "code",
   "execution_count": 60,
   "metadata": {},
   "outputs": [],
   "source": [
    "red_apples_path = r\"C:\\Python_Projects\\esaditional_GAN\\conditional-GAN\\datasett\\red_apples\"\n",
    "green_apples_path = r\"C:\\Python_Projects\\esaditional_GAN\\conditional-GAN\\datasett\\green_apples\"\n",
    "\n",
    "batch_size = 16\n",
    "epochs = 10\n",
    "learning_rate = 1e-4\n",
    "\n",
    "g_input_size = 4\n",
    "g_encode_channel_sizes = [64, 32, 64, 128]\n",
    "g_encode_kernel_sizes = [3, 3, 3, 3]\n",
    "\n",
    "dropout = 0.1\n",
    "\n",
    "g_decode_channel_sizes = [64, 32, 16, 3]\n",
    "g_decode_kernel_sizes = [3, 3, 3, 3]\n",
    "g_upconv_pad_s = [1, 1, 1, 1]\n",
    "\n",
    "d_input_size = 6\n",
    "d_channel_sizes = [16, 32, 64, 128]\n",
    "d_kernel_sizes = [3, 3, 3, 3]\n",
    "d_ann_sizes = [32768, 16, 8, 4]"
   ]
  },
  {
   "cell_type": "code",
   "execution_count": 61,
   "metadata": {},
   "outputs": [
    {
     "name": "stdout",
     "output_type": "stream",
     "text": [
      "sizes:  64\n"
     ]
    }
   ],
   "source": [
    "red_dataset = Apple_Dataset(red_apples_path, transform=transform)\n",
    "red_data_loader = torch.utils.data.DataLoader(red_dataset, batch_size, shuffle= True)"
   ]
  },
  {
   "cell_type": "code",
   "execution_count": 62,
   "metadata": {},
   "outputs": [
    {
     "name": "stdout",
     "output_type": "stream",
     "text": [
      "sizes:  64\n"
     ]
    }
   ],
   "source": [
    "green_dataset = Apple_Dataset(green_apples_path, transform = transform)\n",
    "green_data_loader = torch.utils.data.DataLoader(green_dataset, batch_size, shuffle= True)"
   ]
  },
  {
   "cell_type": "code",
   "execution_count": 63,
   "metadata": {},
   "outputs": [
    {
     "data": {
      "text/plain": [
       "torch.Size([3, 256, 256])"
      ]
     },
     "execution_count": 63,
     "metadata": {},
     "output_type": "execute_result"
    }
   ],
   "source": [
    "red_dataset[0].size()"
   ]
  },
  {
   "cell_type": "code",
   "execution_count": 64,
   "metadata": {},
   "outputs": [
    {
     "data": {
      "text/plain": [
       "torch.Size([3, 256, 256])"
      ]
     },
     "execution_count": 64,
     "metadata": {},
     "output_type": "execute_result"
    }
   ],
   "source": [
    "green_dataset[6].size()"
   ]
  },
  {
   "cell_type": "markdown",
   "metadata": {},
   "source": [
    "### Generator and Discriminator blocks"
   ]
  },
  {
   "cell_type": "code",
   "execution_count": 65,
   "metadata": {},
   "outputs": [],
   "source": [
    "class Generator(nn.Module):\n",
    "    def __init__(self, \n",
    "                input_channels: int,\n",
    "                encode_channel_sizes: list,\n",
    "                encode_kernel_sizes: list,\n",
    "\n",
    "                decode_channel_sizes: list, \n",
    "                decode_kernel_sizes: list,\n",
    "                d_upconv_pad_s: list,\n",
    "                 \n",
    "                dropout: float, \n",
    "                ) -> None:\n",
    "        \n",
    "        self.input_channels: int = input_channels\n",
    "        self.encode_channel_sizes: list = encode_channel_sizes\n",
    "        self.encode_kernel_sizes: list = encode_kernel_sizes\n",
    "\n",
    "        self.decode_channel_sizes: list = decode_channel_sizes\n",
    "        self.decode_kernel_sizes: list = decode_kernel_sizes\n",
    "        self.decode_upconv_padding_sizes: list = d_upconv_pad_s\n",
    "\n",
    "        self.dropout: float = dropout\n",
    "\n",
    "        super().__init__()\n",
    "        \n",
    "        self.model = nn.Sequential(\n",
    "            nn.Conv2d(self.input_channels, self.encode_channel_sizes[0], self.encode_kernel_sizes[0], padding= 1), # 6-256-256 -> 16-256-256\n",
    "            #nn.Conv2d(self.encode_channel_sizes[0], self.encode_channel_sizes[0], self.encode_channel_sizes[0], padding= \"same\"), # 16-256-256 -> 16-256-256\n",
    "            nn.ReLU(),\n",
    "            nn.MaxPool2d(kernel_size= 2, stride= 2), # 16-256-256 -> 16-128-128\n",
    "            nn.Dropout(self.dropout),\n",
    "\n",
    "            nn.Conv2d(self.encode_channel_sizes[0], self.encode_channel_sizes[1], self.encode_kernel_sizes[1], padding= 1), #16-128-128 -> 32-128-128\n",
    "            #nn.Conv2d(self.encode_channel_sizes[1], self.encode_channel_sizes[1], self.encode_kernel_sizes[1], padding= \"same\"), #32-128-128 -> 32-128-128\n",
    "            nn.ReLU(),\n",
    "            nn.MaxPool2d(kernel_size= 2, stride= 2), #32-128-128 -> 32-64-64\n",
    "            nn.Dropout(self.dropout),    \n",
    "\n",
    "            nn.Conv2d(self.encode_channel_sizes[1], self.encode_channel_sizes[2], self.encode_kernel_sizes[2], padding= 1), # 32-64-64 -> 64-64-64\n",
    "            #nn.Conv2d(self.encode_channel_sizes[2], self.encode_channel_sizes[2], self.encode_kernel_sizes[2], padding= \"same\"), # 64-64-64 -> 64-64-64\n",
    "            nn.ReLU(),\n",
    "            nn.MaxPool2d(kernel_size= 2, stride= 2), # 64-64-64 -> 64-32-32\n",
    "            nn.Dropout(self.dropout),\n",
    "\n",
    "            nn.Conv2d(self.encode_channel_sizes[2], self.encode_channel_sizes[3], self.encode_kernel_sizes[3], padding= 1), # 64-32-32 -> 128-32-32\n",
    "            #nn.Conv2d(self.encode_channel_sizes[2], self.encode_channel_sizes[2], self.encode_kernel_sizes[2], padding= \"same\"), # 64-64-64 -> 64-64-64\n",
    "            nn.ReLU(),\n",
    "            nn.MaxPool2d(kernel_size= 2, stride= 2), # 128-32-32 -> 128-16-16\n",
    "            nn.Dropout(self.dropout),\n",
    "\n",
    "            #here may come some ANN layers \n",
    "            #idk why :D\n",
    "\n",
    "            nn.ConvTranspose2d(self.encode_channel_sizes[3], self.decode_channel_sizes[0], self.decode_kernel_sizes[0], stride= 2, padding= d_upconv_pad_s[0] ,output_padding= d_upconv_pad_s[0]), # 128-16-16 -> 64-32-32\n",
    "            nn.Conv2d(self.decode_channel_sizes[0], self.decode_channel_sizes[0], self.decode_kernel_sizes[0], padding= 1), # 64-32-32 -> 64-32-32\n",
    "            nn.ReLU(),\n",
    "            nn.Dropout(self.dropout),\n",
    "            \n",
    "            nn.ConvTranspose2d(self.encode_channel_sizes[0], self.decode_channel_sizes[1], self.decode_kernel_sizes[1], stride= 2, padding= d_upconv_pad_s[1], output_padding= d_upconv_pad_s[1]), # 64-32-32 -> 32-64-64\n",
    "            nn.Conv2d(self.decode_channel_sizes[1], self.decode_channel_sizes[1], self.decode_kernel_sizes[1], padding= 1), # 32-64-64 -> 32-64-64\n",
    "            nn.ReLU(),\n",
    "            nn.Dropout(self.dropout),\n",
    "\n",
    "            nn.ConvTranspose2d(self.decode_channel_sizes[1], self.decode_channel_sizes[2], self.decode_kernel_sizes[2], stride= 2, padding= d_upconv_pad_s[2], output_padding= d_upconv_pad_s[2]), # 32-64-64 -> 16-128-128 \n",
    "            nn.Conv2d(self.decode_channel_sizes[2], self.decode_channel_sizes[2], self.decode_kernel_sizes[2], padding= 1), # 16-128-128 -> 16-128-128\n",
    "            nn.ReLU(),\n",
    "            nn.Dropout(self.dropout),\n",
    "\n",
    "            nn.ConvTranspose2d(self.decode_channel_sizes[2], self.decode_channel_sizes[3], self.decode_kernel_sizes[3], stride= 2, padding= d_upconv_pad_s[3], output_padding = d_upconv_pad_s[3]), # 16-128-128 -> 3-256-256\n",
    "            nn.Sigmoid(),\n",
    "            )\n",
    "        \n",
    "    def forward(self, noise: torch.Tensor, lable_image: torch.Tensor):\n",
    "        \n",
    "        x = torch.cat([noise, lable_image], 1)\n",
    "\n",
    "        out = self.model(x)\n",
    "\n",
    "        return out"
   ]
  },
  {
   "cell_type": "code",
   "execution_count": 66,
   "metadata": {},
   "outputs": [],
   "source": [
    "class Discriminator(nn.Module):\n",
    "    def __init__(self,\n",
    "                 input_chanel: list,\n",
    "                 channel_sizes: list,\n",
    "                 kernel_sizes: list,\n",
    "                 \n",
    "                 ann_layer_sizes: list,\n",
    "                 dropout: float\n",
    "                 ) -> None:\n",
    "        \n",
    "        self.input_channel: int = input_chanel\n",
    "        self.channel_sizes: list = channel_sizes\n",
    "        self.kernel_sizes: list  = kernel_sizes\n",
    "\n",
    "        self.ann_layer_sizes: list = ann_layer_sizes\n",
    "        self.dropout: float = dropout \n",
    "\n",
    "        super().__init__()\n",
    "        \n",
    "        self.model = nn.Sequential(\n",
    "            nn.Conv2d(self.input_channel, self.channel_sizes[0], self.kernel_sizes[0], padding= \"same\"), # 6-256-256 -> 16-256-256\n",
    "            #nn.Conv2d(self.channel_sizes[0], self.channel_sizes[0], self.kernel_sizes[0], padding= \"same\"), # 16-256-256 -> 16-256-256\n",
    "            nn.ReLU(),\n",
    "            nn.Dropout(self.dropout),\n",
    "            nn.MaxPool2d(kernel_size= 2, stride= 2), # 16-256-256 -> 16-128-128\n",
    "\n",
    "            nn.Conv2d(self.channel_sizes[0], self.channel_sizes[1], self.kernel_sizes[1], padding= \"same\"), # 16-128-128 -> 32-128-128\n",
    "            #nn.Conv2d(self.channel_sizes[1], self.channel_sizes[1], self.kernel_sizes[1], padding= \"same\"), # 32-128-128 -> 32-128-128\n",
    "            nn.ReLU(),\n",
    "            nn.Dropout(self.dropout),\n",
    "            nn.MaxPool2d(kernel_size= 2, stride= 2), # 32-128-128 - 32-64-64\n",
    "\n",
    "            nn.Conv2d(self.channel_sizes[1], self.channel_sizes[2], self.kernel_sizes[2], padding= \"same\"), # 32-64-64 -> 64-64-64\n",
    "            #nn.Conv2d(self.channel_sizes[2], self.channel_sizes[2], self.kernel_sizes[2], padding= \"same\"), # 64-64-64 -> 64-64-64\n",
    "            nn.ReLU(),\n",
    "            nn.Dropout(self.dropout),\n",
    "            nn.MaxPool2d(kernel_size= 2, stride= 2), # 64-64-64 -> 64-32-32\n",
    "            \n",
    "            nn.Conv2d(self.channel_sizes[2], self.channel_sizes[3], self.kernel_sizes[3], padding= \"same\"), # 64-32-32 -> 128-32-32\n",
    "            #nn.Conv2d(self.channel_sizes[3], self.channel_sizes[3], self.kernel_sizes[3], padding= \"same\"), # 128-32-32 -> 128-32-32\n",
    "            nn.ReLU(),\n",
    "            nn.Dropout(self.dropout),\n",
    "            nn.MaxPool2d(kernel_size= 2, stride= 2), # 128-32-32 -> 128-16-16\n",
    "\n",
    "            nn.Flatten(),\n",
    "\n",
    "            nn.Linear(self.ann_layer_sizes[0], self.ann_layer_sizes[1]),\n",
    "            nn.ReLU(),\n",
    "            nn.Dropout(self.dropout),\n",
    "            nn.Linear(self.ann_layer_sizes[1], self.ann_layer_sizes[2]),    \n",
    "            nn.ReLU(),\n",
    "            nn.Dropout(self.dropout),\n",
    "            nn.Linear(self.ann_layer_sizes[2], self.ann_layer_sizes[3]),\n",
    "            nn.ReLU(),\n",
    "            nn.Dropout(self.dropout),\n",
    "            nn.Linear(self.ann_layer_sizes[3], 1),\n",
    "            nn.Sigmoid()\n",
    "\n",
    "        )\n",
    "    \n",
    "    def forward(self, real_image, generated_image):\n",
    "        x = torch.cat([real_image, generated_image], 1)\n",
    "        out = self.model(x)\n",
    "        \n",
    "        return out.squeeze()\n",
    "\n",
    "    #its gonna be sequnce of conv2d layers an dense layersc  \n",
    "    #conv2d will demolishing the image then dense layers with 1 output layer proces the image\n",
    "    #probably :D"
   ]
  },
  {
   "cell_type": "markdown",
   "metadata": {},
   "source": [
    "### Train Function"
   ]
  },
  {
   "cell_type": "code",
   "execution_count": 67,
   "metadata": {},
   "outputs": [],
   "source": [
    "generator = Generator(g_input_size, g_encode_channel_sizes, g_encode_kernel_sizes,\n",
    "                      g_decode_channel_sizes, g_decode_kernel_sizes, g_upconv_pad_s,\n",
    "                      dropout).to(device)\n",
    "\n",
    "discriminator = Discriminator(d_input_size, d_channel_sizes, d_kernel_sizes,\n",
    "                              d_ann_sizes, dropout).to(device)"
   ]
  },
  {
   "cell_type": "code",
   "execution_count": 68,
   "metadata": {},
   "outputs": [],
   "source": [
    "# Loss Function\n",
    "criterion = nn.BCELoss()"
   ]
  },
  {
   "cell_type": "code",
   "execution_count": 69,
   "metadata": {},
   "outputs": [],
   "source": [
    "#Optimizer\n",
    "generator_optimizer = torch.optim.Adam(generator.parameters(), lr = learning_rate)\n",
    "discriminator_optimizer = torch.optim.Adam(discriminator.parameters(),lr = learning_rate)"
   ]
  },
  {
   "cell_type": "code",
   "execution_count": 70,
   "metadata": {},
   "outputs": [],
   "source": [
    "def generator_train_step(batch_size: int, instance_shape: list, discriminator, generator, generator_optimizer, criterion, label_image):\n",
    "\n",
    "    generator_optimizer.zero_grad()\n",
    "\n",
    "    noise = torch.randn(batch_size, 1, instance_shape[0], instance_shape[1]).to(device)\n",
    "    \n",
    "    altered_image = generator(noise, label_image)\n",
    "    \n",
    "    validity = discriminator(altered_image, label_image)\n",
    "\n",
    "    generator_loss = criterion(validity, torch.ones(batch_size).to(device))\n",
    "    \n",
    "    generator_loss.backward()\n",
    "\n",
    "    generator_optimizer.step()\n",
    "\n",
    "    return generator_loss.data"
   ]
  },
  {
   "cell_type": "code",
   "execution_count": 71,
   "metadata": {},
   "outputs": [],
   "source": [
    "def discriminator_train_step(batch_size, discriminator, generator, discriminator_optimizer, \n",
    "                             criterion, real_image, other_real_image, instance_shape):\n",
    "    \n",
    "    discriminator_optimizer.zero_grad()\n",
    "\n",
    "    real_validity = discriminator(real_image, other_real_image)\n",
    "    \n",
    "    real_loss = criterion(real_validity, torch.ones(batch_size).to(device))\n",
    "\n",
    "    noise = torch.randn(batch_size, 1, instance_shape[0], instance_shape[1])\n",
    "\n",
    "    altered_images = generator(noise, other_real_image)\n",
    "\n",
    "    altered_image_validity = discriminator(altered_images, other_real_image)\n",
    "\n",
    "    altered_image_loss = criterion(altered_image_validity, torch.ones(batch_size).to(device))\n",
    "\n",
    "    discriminator_loss = altered_image_loss + real_loss\n",
    "\n",
    "    discriminator_loss.backward()\n",
    "\n",
    "    discriminator_optimizer.step()\n",
    "\n",
    "    return discriminator_loss.data"
   ]
  },
  {
   "cell_type": "code",
   "execution_count": 72,
   "metadata": {},
   "outputs": [
    {
     "name": "stdout",
     "output_type": "stream",
     "text": [
      "Starting epoch 1...\n",
      "generator loss: 0.6321700811386108, discriminator loss: 1.2596346139907837\n",
      " \n",
      "Starting epoch 2...\n",
      "generator loss: 0.6124083995819092, discriminator loss: 1.2324804067611694\n",
      " \n",
      "Starting epoch 3...\n",
      "generator loss: 0.5943565368652344, discriminator loss: 1.2144768238067627\n",
      " \n",
      "Starting epoch 4...\n",
      "generator loss: 0.5727418661117554, discriminator loss: 1.1530122756958008\n",
      " \n",
      "Starting epoch 5...\n",
      "generator loss: 0.5280516147613525, discriminator loss: 1.0682580471038818\n",
      " \n",
      "Starting epoch 6...\n",
      "generator loss: 0.5336783528327942, discriminator loss: 0.9870407581329346\n",
      " \n",
      "Starting epoch 7...\n",
      "generator loss: 0.3706742227077484, discriminator loss: 0.7750039100646973\n",
      " \n",
      "Starting epoch 8...\n",
      "generator loss: 0.27428731322288513, discriminator loss: 0.7374327182769775\n",
      " \n",
      "Starting epoch 9...\n",
      "generator loss: 0.13542881608009338, discriminator loss: 0.4944491982460022\n",
      " \n",
      "Starting epoch 10...\n",
      "generator loss: 0.3925681710243225, discriminator loss: 0.3606579899787903\n",
      " \n"
     ]
    }
   ],
   "source": [
    "for epoch in range(epochs):\n",
    "\n",
    "    print(\"Starting epoch {}...\".format(epoch + 1))\n",
    "\n",
    "    for red_apples, green_apples in zip(red_data_loader, green_data_loader):\n",
    "        \n",
    "        red_apples = red_apples.to(device) \n",
    "        green_apples = green_apples.to(device)\n",
    "\n",
    "        generator.train()\n",
    "\n",
    "        discriminator_loss = discriminator_train_step(batch_size, discriminator,\n",
    "                                          generator, discriminator_optimizer,\n",
    "                                          criterion, red_apples, green_apples, (256, 256))\n",
    "        \n",
    "        generator_loss = generator_train_step(batch_size, (256, 256), discriminator, \n",
    "                                      generator, generator_optimizer, criterion, green_apples)\n",
    "\n",
    "        \n",
    "    generator.eval()\n",
    "\n",
    "    print(\"generator loss: {}, discriminator loss: {}\".format(generator_loss, discriminator_loss))\n",
    "    print(\" \")\n"
   ]
  },
  {
   "cell_type": "markdown",
   "metadata": {},
   "source": [
    "#### Predictions"
   ]
  },
  {
   "cell_type": "code",
   "execution_count": 73,
   "metadata": {},
   "outputs": [],
   "source": [
    "green_test_path = r\"C:\\Python_Projects\\esaditional_GAN\\conditional-GAN\\test_data\\green\\real_green_apple_ss_65.jpeg\"\n",
    "red_test_path = r\"C:\\Python_Projects\\esaditional_GAN\\conditional-GAN\\test_data\\red\""
   ]
  },
  {
   "cell_type": "code",
   "execution_count": 74,
   "metadata": {},
   "outputs": [],
   "source": [
    "preprocess = transforms.Compose([\n",
    "    transforms.Resize(256),\n",
    "    transforms.ToTensor(),\n",
    "])"
   ]
  },
  {
   "cell_type": "code",
   "execution_count": 77,
   "metadata": {},
   "outputs": [],
   "source": [
    "img_green = Image.open(green_test_path)\n",
    "\n",
    "input_tensor = preprocess(img_green)\n",
    "input_batch = input_tensor.unsqueeze(0)\n",
    "input_batch = input_batch.to(device)\n",
    "\n",
    "noise = torch.randn(1, 1, 256, 256)"
   ]
  },
  {
   "cell_type": "code",
   "execution_count": 78,
   "metadata": {},
   "outputs": [],
   "source": [
    "sample_img_tensor = generator(noise, input_batch).unsqueeze(1).data.cpu()\n",
    "sample_img = sample_img_tensor[0][0]"
   ]
  },
  {
   "cell_type": "code",
   "execution_count": 79,
   "metadata": {},
   "outputs": [
    {
     "data": {
      "text/plain": [
       "tensor([[[0.5154, 0.5111, 0.5120,  ..., 0.5122, 0.5148, 0.5198],\n",
       "         [0.5223, 0.5268, 0.5344,  ..., 0.5171, 0.5236, 0.5190],\n",
       "         [0.5116, 0.5139, 0.5150,  ..., 0.5071, 0.5153, 0.5170],\n",
       "         ...,\n",
       "         [0.5203, 0.5294, 0.5256,  ..., 0.5196, 0.5211, 0.5188],\n",
       "         [0.5127, 0.5182, 0.5132,  ..., 0.5166, 0.5144, 0.5200],\n",
       "         [0.5211, 0.5219, 0.5231,  ..., 0.5192, 0.5212, 0.5218]],\n",
       "\n",
       "        [[0.4457, 0.4597, 0.4543,  ..., 0.4527, 0.4505, 0.4475],\n",
       "         [0.4510, 0.4794, 0.4550,  ..., 0.4691, 0.4529, 0.4522],\n",
       "         [0.4521, 0.4652, 0.4547,  ..., 0.4482, 0.4521, 0.4466],\n",
       "         ...,\n",
       "         [0.4525, 0.4673, 0.4565,  ..., 0.4648, 0.4533, 0.4535],\n",
       "         [0.4519, 0.4583, 0.4539,  ..., 0.4536, 0.4531, 0.4482],\n",
       "         [0.4545, 0.4584, 0.4559,  ..., 0.4556, 0.4560, 0.4499]],\n",
       "\n",
       "        [[0.5352, 0.5303, 0.5286,  ..., 0.5312, 0.5355, 0.5321],\n",
       "         [0.5497, 0.5464, 0.5522,  ..., 0.5404, 0.5433, 0.5397],\n",
       "         [0.5304, 0.5336, 0.5323,  ..., 0.5352, 0.5349, 0.5353],\n",
       "         ...,\n",
       "         [0.5431, 0.5381, 0.5449,  ..., 0.5363, 0.5424, 0.5366],\n",
       "         [0.5322, 0.5360, 0.5326,  ..., 0.5393, 0.5351, 0.5356],\n",
       "         [0.5395, 0.5378, 0.5408,  ..., 0.5357, 0.5403, 0.5392]]])"
      ]
     },
     "execution_count": 79,
     "metadata": {},
     "output_type": "execute_result"
    }
   ],
   "source": [
    "sample_img"
   ]
  },
  {
   "cell_type": "code",
   "execution_count": 80,
   "metadata": {},
   "outputs": [],
   "source": [
    "transform = transforms.ToPILImage()"
   ]
  },
  {
   "cell_type": "code",
   "execution_count": 81,
   "metadata": {},
   "outputs": [],
   "source": [
    "img = transform(sample_img)"
   ]
  },
  {
   "cell_type": "code",
   "execution_count": 82,
   "metadata": {},
   "outputs": [],
   "source": [
    "img.show()"
   ]
  }
 ],
 "metadata": {
  "kernelspec": {
   "display_name": "Python 3",
   "language": "python",
   "name": "python3"
  },
  "language_info": {
   "codemirror_mode": {
    "name": "ipython",
    "version": 3
   },
   "file_extension": ".py",
   "mimetype": "text/x-python",
   "name": "python",
   "nbconvert_exporter": "python",
   "pygments_lexer": "ipython3",
   "version": "3.11.3"
  }
 },
 "nbformat": 4,
 "nbformat_minor": 2
}
